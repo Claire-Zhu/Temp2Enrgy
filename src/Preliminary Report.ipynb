{
 "cells": [
  {
   "cell_type": "markdown",
   "metadata": {},
   "source": [
    "# Preliminary Report\n",
    "## Active members of your group\n",
    "- Kamron Bhavnagri\n",
    "- Javis Nheu\n",
    "- Stacey Smith\n",
    "- Xingyu Liang\n",
    "- Haitong Zhu\n",
    "\n",
    "## A brief description of your project and details of the supplied data. (2-3 paragraphs)\n",
    "Our project's aim is to find a correlation between energy demand and weather temperatures in Australia.\n",
    "The weather data is from the Bureau of Meteorology (BOM) Automatic Weather Stations.\n",
    "The data provides half hourly temperature measurements over a 20-year period in the capital cities of Hobart, Melbourne, Adelaide, Sydney and Brisbane. We also use energy demand data from The Australian Energy Market Operator which has half hourly measurements for the 5 east coast states of South Australia, Victoria, New South Wales, Queensland and Tasmania.\n",
    "\n",
    "Although our primary goal is to find a relationship between temperature and energy demand, we may also consider a variety of other environmental variables like humidity, precipitation, windspeed and pressure which likely affect energy demand (to some extent).\n",
    "Going forwards we will likely find data on the Australian population, as this has a large impact on the amount of energy usage (as more people alive means more people using air conditioners, heaters, phones, computers, ect).\n",
    "This is due to happen later on after initial analysis, modelling and visualisations have been finalised.\n",
    "\n",
    "## Your goals for the project for this semester. (1 paragraph)\n",
    "We aim to create a model which is able to accurately predict the energy demand given a set of variables.\n",
    "To help accomplish this our project is split into several milestones:\n",
    "* [x] Importing all data\n",
    "* [x] Cleaning the energy and temperature data\n",
    "* [ ] Combining the energy and temperature data\n",
    "* [ ] Creating graphic visualisations which help to highlight the relationship between temperature and energy demand\n",
    "* [ ] Create a model which is able to predict energy demand\n",
    "* [ ] Evaluate the model\n",
    "* [ ] Encorporate Australian population data into the analysis\n",
    "\n",
    "## Your progress so far and the contribution of each of the members. (2 paragraphs)\n",
    "So far we have imported the data from the files supplied to us for this project and have done some cleaning of these data frames, like renaming columns, removing useless/duplicate columns and combining data. We are also in the process of looking at some basic graphs and merging the weather and energy data sets together.\n",
    "When combining our datasets we're paying particular attention to null values, repeated rows and irregular date intervals.\n",
    "\n",
    "As our team members have varying levels of experties in python/data science, all team members attempt to go through each stage of the project individually, before we pact together and share our approaches, how the code works and potential pitfals.\n",
    "Although the process involves a large amount of redundent work, the workflow allows our team members to all develop the creative and technical processes/skills involved in a data science project, whilst also improving their coding proficiency (and hopefully confidence).\n",
    "\n",
    "For a more detailed outline of what's happened so far (the how's and why's) please take a look at the other Jupyter notebooks.\n",
    "They guide you through what's happened step-by-step!\n",
    "\n",
    "## The processes that you have set up for your project, e.g., division of responsibilities, external meetings, communication channels, repositories for sharing of information. (1 paragraph)\n",
    "We have established a GitHub repository for code collaboration, where each team member is able to fork and later publish there own changes/features to.\n",
    "The use of GitHub not only allows for easier code sharing and integration, but allows each team member to work/research individually on their code until they feel ready to officially integrate their features/work (hence everyone has flexibility/openness without it impacting the final solutions quality).\n",
    "\n",
    "To communicate on a regular basis, we hold weekly external team meetings via Zoom at 4pm every Thursday to guarantee regular communication as a group.\n",
    "We also frequently communicate via Discord as our main communication channel (where we share useful resources like tutorials).\n",
    "\n",
    "## Any hurdles that you need to address or foresee for the completion of your goals for this project. (1 paragraph)\n",
    "In our project there have been several challenges which we aim to overcome, such as:\n",
    "* Our teams technical know-how varies significantly\n",
    "* Our team members all progress at vastly different rates\n",
    "\n",
    "To remidy these problems we work on the same problems and try and explain our solutions afterwards.\n",
    "This allows team members who've had more success to explain how they've managed to overcome the challenges others are still coping with."
   ]
  },
  {
   "cell_type": "code",
   "execution_count": null,
   "metadata": {},
   "outputs": [],
   "source": []
  }
 ],
 "metadata": {
  "kernelspec": {
   "display_name": "Python 3",
   "language": "python",
   "name": "python3"
  },
  "language_info": {
   "codemirror_mode": {
    "name": "ipython",
    "version": 3
   },
   "file_extension": ".py",
   "mimetype": "text/x-python",
   "name": "python",
   "nbconvert_exporter": "python",
   "pygments_lexer": "ipython3",
   "version": "3.7.6"
  }
 },
 "nbformat": 4,
 "nbformat_minor": 4
}